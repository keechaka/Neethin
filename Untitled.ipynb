{
 "cells": [
  {
   "cell_type": "code",
   "execution_count": 2,
   "metadata": {},
   "outputs": [],
   "source": [
    "\n",
    "import warnings\n",
    "warnings.filterwarnings('ignore')\n",
    "import os\n",
    "import pandas as pd \n",
    "import numpy as np\n",
    "import matplotlib.pyplot as plt\n",
    "%matplotlib inline\n",
    "import seaborn as sns\n",
    "from sklearn.model_selection import train_test_split\n",
    "from sklearn.svm import SVC\n",
    "from sklearn import metrics\n",
    "from sklearn import preprocessing\n",
    "\n",
    "\n"
   ]
  },
  {
   "cell_type": "code",
   "execution_count": 9,
   "metadata": {},
   "outputs": [],
   "source": [
    "data=pd.read_excel(\"Book1(AutoRecovered).xlsx\")"
   ]
  },
  {
   "cell_type": "code",
   "execution_count": 10,
   "metadata": {},
   "outputs": [
    {
     "data": {
      "text/html": [
       "<div>\n",
       "<style scoped>\n",
       "    .dataframe tbody tr th:only-of-type {\n",
       "        vertical-align: middle;\n",
       "    }\n",
       "\n",
       "    .dataframe tbody tr th {\n",
       "        vertical-align: top;\n",
       "    }\n",
       "\n",
       "    .dataframe thead th {\n",
       "        text-align: right;\n",
       "    }\n",
       "</style>\n",
       "<table border=\"1\" class=\"dataframe\">\n",
       "  <thead>\n",
       "    <tr style=\"text-align: right;\">\n",
       "      <th></th>\n",
       "      <th>Row Labels</th>\n",
       "      <th>202106</th>\n",
       "      <th>202107</th>\n",
       "      <th>202108</th>\n",
       "      <th>202109</th>\n",
       "      <th>202110</th>\n",
       "      <th>202111</th>\n",
       "      <th>202112</th>\n",
       "      <th>202201</th>\n",
       "      <th>202202</th>\n",
       "      <th>...</th>\n",
       "      <th>Net activity</th>\n",
       "      <th>percentage growth</th>\n",
       "      <th>bucket range</th>\n",
       "      <th>Segment</th>\n",
       "      <th>FIRM ID</th>\n",
       "      <th>Parent Firm</th>\n",
       "      <th>Actual net</th>\n",
       "      <th>Avg asset</th>\n",
       "      <th>Age Range</th>\n",
       "      <th>State</th>\n",
       "    </tr>\n",
       "  </thead>\n",
       "  <tbody>\n",
       "    <tr>\n",
       "      <th>0</th>\n",
       "      <td>1001</td>\n",
       "      <td>7234.0</td>\n",
       "      <td>434.04</td>\n",
       "      <td>256.0836</td>\n",
       "      <td>151.089324</td>\n",
       "      <td>40.794117</td>\n",
       "      <td>11.830294</td>\n",
       "      <td>1.537938</td>\n",
       "      <td>0.892004</td>\n",
       "      <td>0.401402</td>\n",
       "      <td>...</td>\n",
       "      <td>4.0</td>\n",
       "      <td>-99.999271</td>\n",
       "      <td>1 to 10</td>\n",
       "      <td>D</td>\n",
       "      <td>12087</td>\n",
       "      <td>Janney</td>\n",
       "      <td>-7233.947235</td>\n",
       "      <td>508.203474</td>\n",
       "      <td>Above 45</td>\n",
       "      <td>Minnesota</td>\n",
       "    </tr>\n",
       "    <tr>\n",
       "      <th>1</th>\n",
       "      <td>1002</td>\n",
       "      <td>5730.0</td>\n",
       "      <td>6417.60</td>\n",
       "      <td>7059.3600</td>\n",
       "      <td>9812.510400</td>\n",
       "      <td>11578.762272</td>\n",
       "      <td>14820.815708</td>\n",
       "      <td>14376.191237</td>\n",
       "      <td>19120.334345</td>\n",
       "      <td>18929.131002</td>\n",
       "      <td>...</td>\n",
       "      <td>36.0</td>\n",
       "      <td>833.192387</td>\n",
       "      <td>above 30</td>\n",
       "      <td>D</td>\n",
       "      <td>10389</td>\n",
       "      <td>Wells Fargo</td>\n",
       "      <td>52767.948797</td>\n",
       "      <td>23675.785458</td>\n",
       "      <td>Above 45</td>\n",
       "      <td>Virginia</td>\n",
       "    </tr>\n",
       "    <tr>\n",
       "      <th>2</th>\n",
       "      <td>1003</td>\n",
       "      <td>2490.0</td>\n",
       "      <td>2838.60</td>\n",
       "      <td>1930.2480</td>\n",
       "      <td>1061.636400</td>\n",
       "      <td>1327.045500</td>\n",
       "      <td>623.711385</td>\n",
       "      <td>442.835083</td>\n",
       "      <td>225.845893</td>\n",
       "      <td>252.947400</td>\n",
       "      <td>...</td>\n",
       "      <td>4.0</td>\n",
       "      <td>-92.865264</td>\n",
       "      <td>1 to 10</td>\n",
       "      <td>D</td>\n",
       "      <td>12087</td>\n",
       "      <td>Janney</td>\n",
       "      <td>-2864.395993</td>\n",
       "      <td>781.244055</td>\n",
       "      <td>36 to 45</td>\n",
       "      <td>Oklahoma</td>\n",
       "    </tr>\n",
       "    <tr>\n",
       "      <th>3</th>\n",
       "      <td>1004</td>\n",
       "      <td>3001.0</td>\n",
       "      <td>2040.68</td>\n",
       "      <td>2448.8160</td>\n",
       "      <td>3183.460800</td>\n",
       "      <td>3310.799232</td>\n",
       "      <td>1390.535677</td>\n",
       "      <td>611.835698</td>\n",
       "      <td>654.664197</td>\n",
       "      <td>667.757481</td>\n",
       "      <td>...</td>\n",
       "      <td>8.0</td>\n",
       "      <td>-94.891289</td>\n",
       "      <td>1 to 10</td>\n",
       "      <td>D</td>\n",
       "      <td>12087</td>\n",
       "      <td>Janney</td>\n",
       "      <td>-1797.145525</td>\n",
       "      <td>1160.768099</td>\n",
       "      <td>Above 45</td>\n",
       "      <td>Minnesota</td>\n",
       "    </tr>\n",
       "    <tr>\n",
       "      <th>4</th>\n",
       "      <td>1005</td>\n",
       "      <td>316.0</td>\n",
       "      <td>366.56</td>\n",
       "      <td>516.8496</td>\n",
       "      <td>775.274400</td>\n",
       "      <td>922.576536</td>\n",
       "      <td>1005.608424</td>\n",
       "      <td>1588.861310</td>\n",
       "      <td>2462.735031</td>\n",
       "      <td>3004.536738</td>\n",
       "      <td>...</td>\n",
       "      <td>25.0</td>\n",
       "      <td>3876.961396</td>\n",
       "      <td>21 to 30</td>\n",
       "      <td>D</td>\n",
       "      <td>10569</td>\n",
       "      <td>UBS Global</td>\n",
       "      <td>12891.238655</td>\n",
       "      <td>4662.318667</td>\n",
       "      <td>Above 45</td>\n",
       "      <td>Massachusetts</td>\n",
       "    </tr>\n",
       "  </tbody>\n",
       "</table>\n",
       "<p>5 rows × 33 columns</p>\n",
       "</div>"
      ],
      "text/plain": [
       "   Row Labels  202106   202107     202108       202109        202110  \\\n",
       "0        1001  7234.0   434.04   256.0836   151.089324     40.794117   \n",
       "1        1002  5730.0  6417.60  7059.3600  9812.510400  11578.762272   \n",
       "2        1003  2490.0  2838.60  1930.2480  1061.636400   1327.045500   \n",
       "3        1004  3001.0  2040.68  2448.8160  3183.460800   3310.799232   \n",
       "4        1005   316.0   366.56   516.8496   775.274400    922.576536   \n",
       "\n",
       "         202111        202112        202201        202202  ...  Net activity  \\\n",
       "0     11.830294      1.537938      0.892004      0.401402  ...           4.0   \n",
       "1  14820.815708  14376.191237  19120.334345  18929.131002  ...          36.0   \n",
       "2    623.711385    442.835083    225.845893    252.947400  ...           4.0   \n",
       "3   1390.535677    611.835698    654.664197    667.757481  ...           8.0   \n",
       "4   1005.608424   1588.861310   2462.735031   3004.536738  ...          25.0   \n",
       "\n",
       "   percentage growth  bucket range  Segment  FIRM ID  Parent Firm  \\\n",
       "0         -99.999271       1 to 10        D    12087       Janney   \n",
       "1         833.192387      above 30        D    10389  Wells Fargo   \n",
       "2         -92.865264       1 to 10        D    12087       Janney   \n",
       "3         -94.891289       1 to 10        D    12087       Janney   \n",
       "4        3876.961396      21 to 30        D    10569   UBS Global   \n",
       "\n",
       "     Actual net     Avg asset  Age Range          State  \n",
       "0  -7233.947235    508.203474   Above 45      Minnesota  \n",
       "1  52767.948797  23675.785458   Above 45       Virginia  \n",
       "2  -2864.395993    781.244055   36 to 45       Oklahoma  \n",
       "3  -1797.145525   1160.768099   Above 45      Minnesota  \n",
       "4  12891.238655   4662.318667   Above 45  Massachusetts  \n",
       "\n",
       "[5 rows x 33 columns]"
      ]
     },
     "execution_count": 10,
     "metadata": {},
     "output_type": "execute_result"
    }
   ],
   "source": [
    "data.head()"
   ]
  },
  {
   "cell_type": "code",
   "execution_count": 5,
   "metadata": {},
   "outputs": [],
   "source": [
    "data.drop(['Row Labels','bucket range','Age Range'],axis=1, inplace=True)"
   ]
  },
  {
   "cell_type": "code",
   "execution_count": 6,
   "metadata": {},
   "outputs": [
    {
     "name": "stdout",
     "output_type": "stream",
     "text": [
      "<class 'pandas.core.frame.DataFrame'>\n",
      "RangeIndex: 1000 entries, 0 to 999\n",
      "Data columns (total 28 columns):\n",
      "202106               969 non-null float64\n",
      "202107               968 non-null float64\n",
      "202108               965 non-null float64\n",
      "202109               964 non-null float64\n",
      "202110               961 non-null float64\n",
      "202111               960 non-null float64\n",
      "202112               960 non-null float64\n",
      "202201               964 non-null float64\n",
      "202202               968 non-null float64\n",
      "202203               975 non-null float64\n",
      "202204               978 non-null float64\n",
      "202205               980 non-null float64\n",
      "202206               984 non-null float64\n",
      "202207               984 non-null float64\n",
      "202208               984 non-null float64\n",
      "202209               984 non-null float64\n",
      "Net                  1000 non-null float64\n",
      "Current              1000 non-null float64\n",
      "Initial              1000 non-null float64\n",
      "Net activity         989 non-null float64\n",
      "percentage growth    1000 non-null float64\n",
      "Segment              1000 non-null object\n",
      "FIRM ID              1000 non-null int64\n",
      "Parent Firm          1000 non-null object\n",
      "Actual net           1000 non-null float64\n",
      "Avg asset            1000 non-null float64\n",
      "State                1000 non-null object\n",
      "Attritipn            1000 non-null int64\n",
      "dtypes: float64(23), int64(2), object(3)\n",
      "memory usage: 218.8+ KB\n"
     ]
    }
   ],
   "source": [
    "data.info()"
   ]
  },
  {
   "cell_type": "code",
   "execution_count": 11,
   "metadata": {},
   "outputs": [
    {
     "data": {
      "text/plain": [
       "Row Labels            0\n",
       "202106               31\n",
       "202107               32\n",
       "202108               35\n",
       "202109               36\n",
       "202110               39\n",
       "202111               40\n",
       "202112               40\n",
       "202201               36\n",
       "202202               32\n",
       "202203               25\n",
       "202204               22\n",
       "202205               20\n",
       "202206               16\n",
       "202207               16\n",
       "202208               16\n",
       "202209               16\n",
       "Net                   0\n",
       "Current               0\n",
       "Initial               0\n",
       "percentage Change    20\n",
       "Attrition(30%)       20\n",
       "ATTRITION            20\n",
       "Net activity         11\n",
       "percentage growth     0\n",
       "bucket range         11\n",
       "Segment               0\n",
       "FIRM ID               0\n",
       "Parent Firm           0\n",
       "Actual net            0\n",
       "Avg asset             0\n",
       "Age Range             0\n",
       "State                 0\n",
       "dtype: int64"
      ]
     },
     "execution_count": 11,
     "metadata": {},
     "output_type": "execute_result"
    }
   ],
   "source": [
    "data.isnull().sum()\n"
   ]
  },
  {
   "cell_type": "code",
   "execution_count": 8,
   "metadata": {},
   "outputs": [],
   "source": [
    "data[202106].fillna (0, inplace=True)\n",
    "data[202107].fillna(0, inplace=True)\n",
    "data[202108].fillna(0, inplace=True)\n",
    "data[202109].fillna(0, inplace=True)\n",
    "data[202110].fillna(0, inplace=True)\n",
    "data[202111].fillna(0, inplace=True)\n",
    "data[202112].fillna(0, inplace=True)\n",
    "data[202201].fillna(0, inplace=True)\n",
    "data[202202].fillna(0, inplace=True)\n",
    "\n"
   ]
  },
  {
   "cell_type": "code",
   "execution_count": 10,
   "metadata": {},
   "outputs": [
    {
     "data": {
      "text/plain": [
       "0"
      ]
     },
     "execution_count": 10,
     "metadata": {},
     "output_type": "execute_result"
    }
   ],
   "source": [
    "data[202106].isnull().sum()"
   ]
  },
  {
   "cell_type": "code",
   "execution_count": 23,
   "metadata": {},
   "outputs": [
    {
     "data": {
      "text/plain": [
       "Index([             202106,              202107,              202108,\n",
       "                    202109,              202110,              202111,\n",
       "                    202112,              202201,              202202,\n",
       "                    202203,              202204,              202205,\n",
       "                    202206,              202207,              202208,\n",
       "                    202209,               'Net',           'Current',\n",
       "                 'Initial',      'Net activity', 'percentage growth',\n",
       "                 'Segment',           'FIRM ID',       'Parent Firm',\n",
       "              'Actual net',         'Avg asset',             'State',\n",
       "               'Attritipn'],\n",
       "      dtype='object')"
      ]
     },
     "execution_count": 23,
     "metadata": {},
     "output_type": "execute_result"
    }
   ],
   "source": [
    "data.columns"
   ]
  },
  {
   "cell_type": "code",
   "execution_count": null,
   "metadata": {},
   "outputs": [],
   "source": []
  }
 ],
 "metadata": {
  "kernelspec": {
   "display_name": "Python 3",
   "language": "python",
   "name": "python3"
  },
  "language_info": {
   "codemirror_mode": {
    "name": "ipython",
    "version": 3
   },
   "file_extension": ".py",
   "mimetype": "text/x-python",
   "name": "python",
   "nbconvert_exporter": "python",
   "pygments_lexer": "ipython3",
   "version": "3.7.3"
  }
 },
 "nbformat": 4,
 "nbformat_minor": 2
}
